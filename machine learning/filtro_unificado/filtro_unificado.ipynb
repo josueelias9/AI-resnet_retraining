{
 "cells": [
  {
   "cell_type": "code",
   "execution_count": null,
   "metadata": {},
   "outputs": [],
   "source": [
    "# AGREGADO\n",
    "\n",
    "# seleccione pip y CUDA 11.7 (ver si funciona para ti)\n",
    "# https://pytorch.org/\n",
    "!pip3 install torch torchvision torchaudio"
   ]
  },
  {
   "cell_type": "code",
   "execution_count": null,
   "metadata": {
    "id": "FsePPpwZSmqt"
   },
   "outputs": [],
   "source": [
    "!python -m pip install pyyaml==5.1\n",
    "import sys, os, distutils.core\n",
    "# Note: This is a faster way to install detectron2 in Colab, but it does not include all functionalities.\n",
    "# See https://detectron2.readthedocs.io/tutorials/install.html for full installation instructions\n",
    "!git clone 'https://github.com/facebookresearch/detectron2'\n",
    "dist = distutils.core.run_setup(\"./detectron2/setup.py\")\n",
    "!python -m pip install {' '.join([f\"'{x}'\" for x in dist.install_requires])}\n",
    "sys.path.insert(0, os.path.abspath('./detectron2'))\n",
    "\n",
    "# Properly install detectron2. (Please do not install twice in both ways)\n",
    "# !python -m pip install 'git+https://github.com/facebookresearch/detectron2.git'"
   ]
  },
  {
   "cell_type": "code",
   "execution_count": null,
   "metadata": {
    "colab": {
     "base_uri": "https://localhost:8080/"
    },
    "executionInfo": {
     "elapsed": 1373,
     "status": "ok",
     "timestamp": 1652928059860,
     "user": {
      "displayName": "Yuxin Wu",
      "userId": "04991596853823833398"
     },
     "user_tz": 420
    },
    "id": "0d288Z2mF5dC",
    "outputId": "c47c5426-64d6-4632-f868-e2f14dfe39be"
   },
   "outputs": [],
   "source": [
    "import torch, detectron2\n",
    "!nvcc --version\n",
    "TORCH_VERSION = \".\".join(torch.__version__.split(\".\")[:2])\n",
    "CUDA_VERSION = torch.__version__.split(\"+\")[-1]\n",
    "print(\"torch: \", TORCH_VERSION, \"; cuda: \", CUDA_VERSION)\n",
    "print(\"detectron2:\", detectron2.__version__)"
   ]
  },
  {
   "cell_type": "code",
   "execution_count": null,
   "metadata": {},
   "outputs": [],
   "source": [
    "# AGREGADO\n",
    "\n",
    "# https://pypi.org/project/opencv-python/\n",
    "!pip install opencv-python\n",
    "\n",
    "# https://github.com/open-mmlab/mmsegmentation/pull/1568/commits/3cdac2f1cb274dc9fc8c9530f997c7ece9ffe074\n",
    "!apt-get update && apt-get install -y git ninja-build libglib2.0-0 libsm6 libxrender-dev libxext6 libgl1-mesa-glx \\\n",
    "    && apt-get clean \\\n",
    "    && rm -rf /var/lib/apt/lists/*"
   ]
  },
  {
   "cell_type": "code",
   "execution_count": null,
   "metadata": {},
   "outputs": [],
   "source": [
    "#MODIFICADO \n",
    "\n",
    "# Some basic setup:\n",
    "# Setup detectron2 logger\n",
    "import detectron2\n",
    "from detectron2.utils.logger import setup_logger\n",
    "setup_logger()\n",
    "\n",
    "# import some common libraries\n",
    "import numpy as np\n",
    "import os, json, cv2, random\n",
    "\n",
    "# import some common detectron2 utilities\n",
    "from detectron2 import model_zoo\n",
    "from detectron2.engine import DefaultPredictor\n",
    "from detectron2.config import get_cfg\n",
    "from detectron2.utils.visualizer import Visualizer\n",
    "from detectron2.data import MetadataCatalog, DatasetCatalog"
   ]
  },
  {
   "cell_type": "code",
   "execution_count": null,
   "metadata": {},
   "outputs": [],
   "source": [
    "# MODIFICADO \n",
    "\n",
    "cfg = get_cfg()\n",
    "# add project-specific config (e.g., TensorMask) here if you're not running a model in detectron2's core library\n",
    "cfg.merge_from_file(model_zoo.get_config_file(\"COCO-InstanceSegmentation/mask_rcnn_R_50_FPN_3x.yaml\"))\n",
    "cfg.MODEL.ROI_HEADS.SCORE_THRESH_TEST = 0.5  # set threshold for this model\n",
    "# Find a model from detectron2's model zoo. You can use the https://dl.fbaipublicfiles... url as well\n",
    "cfg.MODEL.WEIGHTS = model_zoo.get_checkpoint_url(\"COCO-InstanceSegmentation/mask_rcnn_R_50_FPN_3x.yaml\")\n",
    "predictor = DefaultPredictor(cfg)"
   ]
  },
  {
   "cell_type": "code",
   "execution_count": null,
   "metadata": {},
   "outputs": [],
   "source": [
    "import tensorflow as tf\n",
    "\n",
    "model = tf.keras.models.load_model('/tf/josue/filtro_3/best_weights/mymodel_17-0.0759')\n",
    "\n",
    "# Check its architecture\n",
    "model.summary()"
   ]
  },
  {
   "cell_type": "code",
   "execution_count": null,
   "metadata": {},
   "outputs": [],
   "source": [
    "# AGREGADO \n",
    "\n",
    "ruta_imagenes = \"/tf/josue/filtro_unificado/im_abarth_500_2012\"\n",
    "ruta_f1       = \"/tf/josue/filtro_unificado/im_f1_no_carro\"\n",
    "ruta_f2       = \"/tf/josue/filtro_unificado/im_f2_carro_pequeno\"\n",
    "ruta_f3       = \"/tf/josue/filtro_unificado/im_f3_rueda_o_interior\"\n",
    "ruta_r        = \"/tf/josue/filtro_unificado/im_fr_resultado\"\n",
    "\n",
    "def filtros_concatenados(ruta_imagenes, ruta_f1, ruta_f2, ruta_f3, ruta_r):\n",
    "  mi_ruta = ruta_imagenes\n",
    "  for count,a in enumerate(os.listdir(mi_ruta)):\n",
    "    #print(count)\n",
    "    try:\n",
    "          \n",
    "      # filtro 1 (al menos un carro)\n",
    "      im = cv2.imread(mi_ruta +\"/\"+a)\n",
    "      outputs = predictor(im)\n",
    "      if (2 in outputs[\"instances\"].pred_classes):\n",
    "          \n",
    "        # filtro 2 (el mayor objeto debe ser carro)\n",
    "        objects_area = outputs[\"instances\"].pred_boxes.area()\n",
    "        objects_coor = outputs[\"instances\"].pred_boxes.tensor\n",
    "        objects_area_numpy = objects_area.cpu().numpy()\n",
    "        objects_coor_numpy = objects_coor.cpu().numpy()\n",
    "        max_index = np.argmax(objects_area_numpy)\n",
    "        if 2 == int(outputs[\"instances\"].pred_classes[max_index]):        \n",
    "          \n",
    "          # filtro 3 (solo carros desde el exterior)\n",
    "          b = cv2.resize(im,(160,160))\n",
    "          img_array = np.expand_dims(b, axis=0)\n",
    "          class_names = [\"interior\",\"exterior\",\"llanta\"]\n",
    "          predictions = model.predict(img_array)\n",
    "          score = tf.nn.softmax(predictions[0])\n",
    "          if (int(np.argmax(score)) == 1):\n",
    "                    \n",
    "            # filtro 4 (recorte)\n",
    "            eee = objects_coor_numpy.tolist()[max_index]\n",
    "            os.chdir(ruta_r)\n",
    "            cv2.imwrite(a, im[int(eee[1]):int(eee[3]), int(eee[0]):int(eee[2])])\n",
    "            \n",
    "          else:\n",
    "            os.chdir(ruta_f3)\n",
    "            cv2.imwrite(a, im)\n",
    "        \n",
    "        else:\n",
    "          os.chdir(ruta_f2)\n",
    "          cv2.imwrite(a, im)\n",
    "        \n",
    "      else:\n",
    "        os.chdir(ruta_f1)\n",
    "        cv2.imwrite(a, im)\n",
    "      \n",
    "    except Exception as e: \n",
    "      print(e)\n",
    "\n",
    "\n",
    "filtros_concatenados(ruta_imagenes, ruta_f1, ruta_f2, ruta_f3, ruta_r)"
   ]
  },
  {
   "cell_type": "code",
   "execution_count": null,
   "metadata": {},
   "outputs": [],
   "source": [
    "'''\n",
    "observaciones:\n",
    "\n",
    "##### experimento 1 #####\n",
    "\n",
    "- exterior\n",
    "147_4_d9820971-a93c-362c-e053-e350040a1ccf_14d46714-a3c1-4e2f-b591-f4e13a027bfc.jpg\n",
    "147_6_d9820971-a93c-362c-e053-e350040a1ccf_881025c1-04e5-4d7f-98e9-0decb03a2414.jpg\n",
    "\n",
    "- rueda\n",
    "151_12_65cfb222-f101-4bb7-96bc-b5312ff7e051_5bb73905-8bb8-404f-8883-737794ca2cba.jpg\n",
    "\n",
    "- basura\n",
    "152_11_65a74b92-a3a2-416e-bbe2-c37b60c41ba6_4d699502-a2c7-4050-9db9-e65254e5dccd.jpg\n",
    "\n",
    "- podria recortarse\n",
    "147_2_d9820971-a93c-362c-e053-e350040a1ccf_bfbbcede-5d10-4ad1-8fb3-b2e1e9be352d.jpg\n",
    "\n",
    "\n",
    "##### experimento 2 #####\n",
    "\n",
    "- es moto\n",
    "152_11_65a74b92-a3a2-416e-bbe2-c37b60c41ba6_4d699502-a2c7-4050-9db9-e65254e5dccd.jpg\n",
    "\n",
    "- es rueda\n",
    "144_15_f1b7c739-cef4-4dbb-b271-44ed28f41267_417704fd-13e6-4baa-a3c6-0033b3e4923c.jpg\n",
    "149_9_4ca3a46b-77e2-f215-e053-e350040ac2d0_2c1e4b32-9c71-47c4-8735-5993e2d65a97.jpg\n",
    "128_4_a20c7742-c058-4690-b2ec-cd8a9e9fb499_dfe9fd10-e8e0-49a3-9251-01c0e23da67d.jpg\n",
    "\n",
    "- es interior\n",
    "147_6_d9820971-a93c-362c-e053-e350040a1ccf_881025c1-04e5-4d7f-98e9-0decb03a2414.jpg\n",
    "\n",
    "\n",
    "##### experimento 3 #####\n",
    "\n",
    "- ex exterior\n",
    "136_4_67433e68-0a47-9c23-e053-e250040ab22d_1cc907a7-339c-4a71-8cd1-b5a8c5af401d.jpg\n",
    "136_8_67433e68-0a47-9c23-e053-e250040ab22d_477ecb7d-76cb-4a76-92e6-7f3ac0572ae0.jpg\n",
    "\n",
    "- parte de carro... deberia de eliminarse?\n",
    "149_5_4ca3a46b-77e2-f215-e053-e350040ac2d0_ad191c7b-ab06-4e36-9722-bf6b9a70b535.jpg\n",
    "\n",
    "- paso el filtro 1 pero no el 2. En teoria hay una box mas grande que no es carro pero al usar el script de detectron2 solo vemos un carro. Revisar.\n",
    "138_11_4a61a874-0b3e-2055-e053-e250040a8ba3_2576dc6f-ddbf-44a0-89bd-d9c219cb3b0e.jpg\n",
    "'''"
   ]
  }
 ],
 "metadata": {
  "accelerator": "GPU",
  "colab": {
   "collapsed_sections": [],
   "provenance": [
    {
     "file_id": "16jcaJoc6bCFAQ96jDe2HwtXj7BMD_-m5",
     "timestamp": 1667637339112
    }
   ]
  },
  "kernelspec": {
   "display_name": "Python 3",
   "language": "python",
   "name": "python3"
  },
  "language_info": {
   "codemirror_mode": {
    "name": "ipython",
    "version": 3
   },
   "file_extension": ".py",
   "mimetype": "text/x-python",
   "name": "python",
   "nbconvert_exporter": "python",
   "pygments_lexer": "ipython3",
   "version": "3.8.10"
  },
  "vscode": {
   "interpreter": {
    "hash": "31f2aee4e71d21fbe5cf8b01ff0e069b9275f58929596ceb00d14d90e3e16cd6"
   }
  }
 },
 "nbformat": 4,
 "nbformat_minor": 1
}
