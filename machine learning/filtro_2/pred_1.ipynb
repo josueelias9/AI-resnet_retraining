{
 "cells": [
  {
   "cell_type": "code",
   "execution_count": null,
   "metadata": {},
   "outputs": [],
   "source": [
    "# AGREGADO\n",
    "\n",
    "# https://www.tensorflow.org/tutorials/keras/save_and_load#savedmodel_format\n",
    "\n",
    "import tensorflow as tf\n",
    "\n",
    "new_model = tf.keras.models.load_model('./best_weights_exp3/mymodel_14-0.0337')\n",
    "# Check its architecture\n",
    "new_model.summary()"
   ]
  },
  {
   "cell_type": "code",
   "execution_count": null,
   "metadata": {},
   "outputs": [],
   "source": [
    "# AGREGADO\n",
    "\n",
    "# https://pypi.org/project/opencv-python/\n",
    "!pip install opencv-python\n",
    "\n",
    "# https://github.com/open-mmlab/mmsegmentation/pull/1568/commits/3cdac2f1cb274dc9fc8c9530f997c7ece9ffe074\n",
    "!apt-get update && apt-get install -y git ninja-build libglib2.0-0 libsm6 libxrender-dev libxext6 libgl1-mesa-glx \\\n",
    "    && apt-get clean \\\n",
    "    && rm -rf /var/lib/apt/lists/*"
   ]
  },
  {
   "cell_type": "code",
   "execution_count": null,
   "metadata": {},
   "outputs": [],
   "source": [
    "# AGREGADO\n",
    "\n",
    "# https://www.tensorflow.org/tutorials/images/transfer_learning#evaluation_and_prediction\n",
    "\n",
    "import cv2\n",
    "\n",
    "image = cv2.imread('carro2.jpg')\n",
    "\n",
    "b = cv2.resize(image,(160,160))\n",
    "y = np.expand_dims(b, axis=0)\n",
    "\n",
    "\n",
    "predictions = model.predict(y)\n",
    "predictions = tf.nn.sigmoid(predictions)\n",
    "predictions = tf.where(predictions < 0.5, 0, 1)\n",
    "\n",
    "print(predictions)"
   ]
  }
 ],
 "metadata": {
  "kernelspec": {
   "display_name": "Python 3.8.10 64-bit",
   "language": "python",
   "name": "python3"
  },
  "language_info": {
   "name": "python",
   "version": "3.8.10"
  },
  "orig_nbformat": 4,
  "vscode": {
   "interpreter": {
    "hash": "31f2aee4e71d21fbe5cf8b01ff0e069b9275f58929596ceb00d14d90e3e16cd6"
   }
  }
 },
 "nbformat": 4,
 "nbformat_minor": 2
}
